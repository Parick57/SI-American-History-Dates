{
 "cells": [
  {
   "cell_type": "code",
   "execution_count": 1,
   "metadata": {},
   "outputs": [],
   "source": [
    "from dask.distributed import Client\n",
    "import dask.bag as db\n",
    "import json\n",
    "from collections import Counter\n",
    "import time\n",
    "import numpy as np\n",
    "import pandas as pd\n",
    "import s3fs\n",
    "from PIL import Image\n",
    "import humanize"
   ]
  },
  {
   "cell_type": "code",
   "execution_count": 2,
   "metadata": {},
   "outputs": [
    {
     "data": {
      "text/plain": [
       "['smithsonian-open-access/media', 'smithsonian-open-access/metadata']"
      ]
     },
     "execution_count": 2,
     "metadata": {},
     "output_type": "execute_result"
    }
   ],
   "source": [
    "fs = s3fs.S3FileSystem(anon=True)\n",
    "fs.ls('smithsonian-open-access')"
   ]
  },
  {
   "cell_type": "code",
   "execution_count": 3,
   "metadata": {},
   "outputs": [
    {
     "data": {
      "text/plain": [
       "['smithsonian-open-access/metadata/edan/aaa',\n",
       " 'smithsonian-open-access/metadata/edan/acah',\n",
       " 'smithsonian-open-access/metadata/edan/acm',\n",
       " 'smithsonian-open-access/metadata/edan/cfchfolklife',\n",
       " 'smithsonian-open-access/metadata/edan/chndm',\n",
       " 'smithsonian-open-access/metadata/edan/eepa',\n",
       " 'smithsonian-open-access/metadata/edan/fbr',\n",
       " 'smithsonian-open-access/metadata/edan/fs',\n",
       " 'smithsonian-open-access/metadata/edan/fsa',\n",
       " 'smithsonian-open-access/metadata/edan/fsg',\n",
       " 'smithsonian-open-access/metadata/edan/hac',\n",
       " 'smithsonian-open-access/metadata/edan/hmsg',\n",
       " 'smithsonian-open-access/metadata/edan/hsfa',\n",
       " 'smithsonian-open-access/metadata/edan/index.txt',\n",
       " 'smithsonian-open-access/metadata/edan/naa',\n",
       " 'smithsonian-open-access/metadata/edan/nasm',\n",
       " 'smithsonian-open-access/metadata/edan/nasmac',\n",
       " 'smithsonian-open-access/metadata/edan/nmaahc',\n",
       " 'smithsonian-open-access/metadata/edan/nmafa',\n",
       " 'smithsonian-open-access/metadata/edan/nmah',\n",
       " 'smithsonian-open-access/metadata/edan/nmai',\n",
       " 'smithsonian-open-access/metadata/edan/nmnhanthro',\n",
       " 'smithsonian-open-access/metadata/edan/nmnhbirds',\n",
       " 'smithsonian-open-access/metadata/edan/nmnhbotany',\n",
       " 'smithsonian-open-access/metadata/edan/nmnheducation',\n",
       " 'smithsonian-open-access/metadata/edan/nmnhento',\n",
       " 'smithsonian-open-access/metadata/edan/nmnhfishes',\n",
       " 'smithsonian-open-access/metadata/edan/nmnhherps',\n",
       " 'smithsonian-open-access/metadata/edan/nmnhinv',\n",
       " 'smithsonian-open-access/metadata/edan/nmnhmammals',\n",
       " 'smithsonian-open-access/metadata/edan/nmnhminsci',\n",
       " 'smithsonian-open-access/metadata/edan/nmnhpaleo',\n",
       " 'smithsonian-open-access/metadata/edan/npg',\n",
       " 'smithsonian-open-access/metadata/edan/npgcap',\n",
       " 'smithsonian-open-access/metadata/edan/npm',\n",
       " 'smithsonian-open-access/metadata/edan/nzp',\n",
       " 'smithsonian-open-access/metadata/edan/ocio_dpo3d',\n",
       " 'smithsonian-open-access/metadata/edan/saam',\n",
       " 'smithsonian-open-access/metadata/edan/si',\n",
       " 'smithsonian-open-access/metadata/edan/sia',\n",
       " 'smithsonian-open-access/metadata/edan/sil']"
      ]
     },
     "execution_count": 3,
     "metadata": {},
     "output_type": "execute_result"
    }
   ],
   "source": [
    "metadata = fs.ls('smithsonian-open-access/metadata/edan')\n",
    "metadata"
   ]
  },
  {
   "cell_type": "code",
   "execution_count": 4,
   "metadata": {},
   "outputs": [
    {
     "name": "stdout",
     "output_type": "stream",
     "text": [
      "257\n",
      "smithsonian-open-access/metadata/edan/nmah/00.txt\n",
      "9.5 MB\n",
      "smithsonian-open-access/metadata/edan/nmah/01.txt\n",
      "9.5 MB\n",
      "smithsonian-open-access/metadata/edan/nmah/02.txt\n",
      "9.5 MB\n",
      "smithsonian-open-access/metadata/edan/nmah/03.txt\n",
      "9.4 MB\n",
      "smithsonian-open-access/metadata/edan/nmah/04.txt\n",
      "9.6 MB\n"
     ]
    }
   ],
   "source": [
    "nmah_metadata = fs.ls('smithsonian-open-access/metadata/edan/nmah')\n",
    "print(len(nmah_metadata))\n",
    "for metadata_file in nmah_metadata[:5]:\n",
    "    print(metadata_file)\n",
    "    print(humanize.naturalsize(fs.du(metadata_file)))"
   ]
  },
  {
   "cell_type": "code",
   "execution_count": 5,
   "metadata": {},
   "outputs": [
    {
     "data": {
      "text/html": [
       "<table style=\"border: 2px solid white;\">\n",
       "<tr>\n",
       "<td style=\"vertical-align: top; border: 0px solid white\">\n",
       "<h3 style=\"text-align: left;\">Client</h3>\n",
       "<ul style=\"text-align: left; list-style: none; margin: 0; padding: 0;\">\n",
       "  <li><b>Scheduler: </b>tcp://127.0.0.1:60371</li>\n",
       "  <li><b>Dashboard: </b><a href='http://127.0.0.1:8787/status' target='_blank'>http://127.0.0.1:8787/status</a></li>\n",
       "</ul>\n",
       "</td>\n",
       "<td style=\"vertical-align: top; border: 0px solid white\">\n",
       "<h3 style=\"text-align: left;\">Cluster</h3>\n",
       "<ul style=\"text-align: left; list-style:none; margin: 0; padding: 0;\">\n",
       "  <li><b>Workers: </b>1</li>\n",
       "  <li><b>Cores: </b>4</li>\n",
       "  <li><b>Memory: </b>17.02 GB</li>\n",
       "</ul>\n",
       "</td>\n",
       "</tr>\n",
       "</table>"
      ],
      "text/plain": [
       "<Client: 'tcp://127.0.0.1:60371' processes=1 threads=4, memory=17.02 GB>"
      ]
     },
     "execution_count": 5,
     "metadata": {},
     "output_type": "execute_result"
    }
   ],
   "source": [
    "client = Client(threads_per_worker=4, n_workers=1)\n",
    "client"
   ]
  },
  {
   "cell_type": "code",
   "execution_count": 6,
   "metadata": {},
   "outputs": [],
   "source": [
    "b = db.read_text('s3://smithsonian-open-access/metadata/edan/nmah/*.txt',\n",
    "                storage_options={'anon': True}).map(json.loads)"
   ]
  },
  {
   "cell_type": "code",
   "execution_count": 7,
   "metadata": {},
   "outputs": [],
   "source": [
    "nmah_example = b.take(1)[0]\n",
    "with open('nmah_metadata_example.json', 'w') as json_out:\n",
    "    json.dump(nmah_example, json_out, indent=2)"
   ]
  },
  {
   "cell_type": "code",
   "execution_count": 8,
   "metadata": {},
   "outputs": [
    {
     "name": "stdout",
     "output_type": "stream",
     "text": [
      "{\n",
      "  \"id\": \"edanmdm-nmah_1452166\",\n",
      "  \"version\": \"\",\n",
      "  \"unitCode\": \"NMAH\",\n",
      "  \"linkedId\": \"0\",\n",
      "  \"type\": \"edanmdm\",\n",
      "  \"content\": {\n",
      "    \"descriptiveNonRepeating\": {\n",
      "      \"record_ID\": \"nmah_1452166\",\n",
      "      \"unit_code\": \"NMAH\",\n",
      "      \"title_sort\": \"PART OF MOLD\",\n",
      "      \"guid\": \"http://n2t.net/ark:/65665/ng49ca746b2-afe0-704b-e053-15f76fa0b4fa\",\n",
      "      \"title\": {\n",
      "        \"label\": \"Title\",\n",
      "        \"content\": \"Part of Mold\"\n",
      "      },\n",
      "      \"metadata_usage\": {\n",
      "        \"access\": \"CC0\"\n",
      "      },\n",
      "      \"data_source\": \"National Museum of American History\"\n",
      "    },\n",
      "    \"indexedStructured\": {\n",
      "      \"date\": [\n",
      "        \"1900s\"\n",
      "      ],\n",
      "      \"geoLocation\": [\n",
      "        {\n",
      "          \"Other\": {\n",
      "            \"type\": \"Place\",\n",
      "            \"content\": \"United States\"\n",
      "          }\n",
      "        },\n",
      "        {\n",
      "          \"points\": {\n",
      "            \"point\": {\n",
      "              \"latitude\": {\n",
      "                \"type\": \"decimal\",\n",
      "                \"content\": \"38\"\n",
      "              },\n",
      "              \"longitude\": {\n",
      "                \"type\": \"decimal\",\n",
      "                \"content\": \"-98\"\n",
      "              }\n",
      "            }\n",
      "          }\n",
      "        }\n",
      "      ],\n",
      "      \"object_type\": [\n",
      "        \"mold, butter/cheese, part of\"\n",
      "      ],\n",
      "      \"topic\": [\n",
      "        \"Food Processing\"\n",
      "      ],\n",
      "      \"place\": [\n",
      "        \"United States\"\n",
      "      ],\n",
      "      \"online_media_type\": [\n",
      "        \"Images\"\n",
      "      ]\n",
      "    },\n",
      "    \"freetext\": {\n",
      "      \"setName\": [\n",
      "        {\n",
      "          \"label\": \"See more items in\",\n",
      "          \"content\": \"Cultural and Community Life: Domestic Life\"\n",
      "        }\n",
      "      ],\n",
      "      \"date\": [\n",
      "        {\n",
      "          \"label\": \"date made\",\n",
      "          \"content\": \"1800 - 1900\"\n",
      "        }\n",
      "      ],\n",
      "      \"identifier\": [\n",
      "        {\n",
      "          \"label\": \"ID Number\",\n",
      "          \"content\": \"1990.0447.38C\"\n",
      "        },\n",
      "        {\n",
      "          \"label\": \"catalog number\",\n",
      "          \"content\": \"1990.0447.38C\"\n",
      "        },\n",
      "        {\n",
      "          \"label\": \"accession number\",\n",
      "          \"content\": \"1990.0447\"\n",
      "        }\n",
      "      ],\n",
      "      \"notes\": [\n",
      "        {\n",
      "          \"label\": \"Location\",\n",
      "          \"content\": \"Currently not on view\"\n",
      "        }\n",
      "      ],\n",
      "      \"creditLine\": [\n",
      "        {\n",
      "          \"label\": \"Credit Line\",\n",
      "          \"content\": \"Gift of Mrs. John H. Murray (Anne W. Murray)\"\n",
      "        }\n",
      "      ],\n",
      "      \"topic\": [\n",
      "        {\n",
      "          \"label\": \"subject\",\n",
      "          \"content\": \"Food Processing\"\n",
      "        }\n",
      "      ],\n",
      "      \"place\": [\n",
      "        {\n",
      "          \"label\": \"place made\",\n",
      "          \"content\": \"United States\"\n",
      "        }\n",
      "      ],\n",
      "      \"physicalDescription\": [\n",
      "        {\n",
      "          \"label\": \"Physical Description\",\n",
      "          \"content\": \"wood (overall material)\"\n",
      "        },\n",
      "        {\n",
      "          \"label\": \"Measurements\",\n",
      "          \"content\": \"overall: 5/16 in x 2 1/8 in x 13/16 in; .79375 cm x 5.3975 cm x 2.06375 cm\"\n",
      "        }\n",
      "      ],\n",
      "      \"dataSource\": [\n",
      "        {\n",
      "          \"label\": \"Data Source\",\n",
      "          \"content\": \"National Museum of American History\"\n",
      "        }\n",
      "      ],\n",
      "      \"objectType\": [\n",
      "        {\n",
      "          \"label\": \"Object Name\",\n",
      "          \"content\": \"mold, butter/cheese, part of\"\n",
      "        }\n",
      "      ]\n",
      "    }\n",
      "  },\n",
      "  \"url\": \"edanmdm:nmah_1452166\",\n",
      "  \"hash\": \"04e18de0e3d7412843a865d01a0cc38cb34c03ab\",\n",
      "  \"docSignature\": \"f79d9d4cb2e18f12dfec6baac87671cd59d74f8e_e7e0a9028e059ee437b4124fb64b1284\",\n",
      "  \"timestamp\": 1594110152,\n",
      "  \"lastTimeUpdated\": 1594110106,\n",
      "  \"title\": \"Part of Mold\"\n",
      "}\n"
     ]
    }
   ],
   "source": [
    "print(json.dumps(nmah_example, indent=2))"
   ]
  },
  {
   "cell_type": "code",
   "execution_count": 9,
   "metadata": {},
   "outputs": [],
   "source": [
    "def flatten(record):\n",
    "    flattened_record = dict()\n",
    "    flattened_record['id'] = record['id']\n",
    "    flattened_record['unitCode'] = record['unitCode']\n",
    "    flattened_record['title'] = record['title']\n",
    "    recordID = record['content'].get('descriptiveNonRepeating', {}).get('record_ID', {})\n",
    "    flattened_record['record_ID'] = recordID\n",
    "    metadata = record['content'].get('descriptiveNonRepeating', {}).get('metadata_usage', {})\n",
    "    flattened_record['metadata_usage'] = metadata\n",
    "    DataSource = record['content'].get('descriptiveNonRepeating', {}).get('data_source', {})\n",
    "    flattened_record['data_source'] = DataSource\n",
    "    ObjectType = record['content'].get('indexedStructured', {}).get('object_type', {})\n",
    "    flattened_record['object_type'] = ObjectType\n",
    "    \n",
    "    if 'freetext' in record['content']:\n",
    "        if 'date' in record['content']['freetext']:\n",
    "            for date in record['content']['freetext']['date']:\n",
    "                if date['label'] == 'Date':\n",
    "                    flattened_record['Date'] = str(date['content'])\n",
    "                elif date['label'] == 'Date made':\n",
    "                    flattened_record['Date'] = str(date['content'])\n",
    "                elif date['label'] == 'date made':\n",
    "                    flattened_record['Date'] = str(date['content'])\n",
    "                elif date['label'] == 'associated dates':\n",
    "                    flattened_record['Date'] = str(date['content'])\n",
    "                elif date['label'] == 'date on object':\n",
    "                    flattened_record['Date'] = str(date['content'])\n",
    "                elif date['label'] == 'plate date':\n",
    "                    flattened_record['Date'] = str(date['content'])\n",
    "                elif date['label'] == 'BEP certification date':\n",
    "                    flattened_record['Date'] = str(date['content'])\n",
    "                elif date['label'] == 'series date':\n",
    "                    flattened_record['Date'] = str(date['content'])\n",
    "                elif date['label'] == 'alternate calendar date':\n",
    "                    flattened_record['Date'] = str(date['content'])\n",
    "                elif date['label'] == 'patent date':\n",
    "                    flattened_record['Date'] = str(date['content'])\n",
    "    return flattened_record"
   ]
  },
  {
   "cell_type": "code",
   "execution_count": 10,
   "metadata": {},
   "outputs": [
    {
     "data": {
      "text/plain": [
       "5199"
      ]
     },
     "execution_count": 10,
     "metadata": {},
     "output_type": "execute_result"
    }
   ],
   "source": [
    "b.count().compute()"
   ]
  },
  {
   "cell_type": "code",
   "execution_count": 11,
   "metadata": {},
   "outputs": [
    {
     "data": {
      "text/plain": [
       "{'id': 'edanmdm-nmah_1452166',\n",
       " 'unitCode': 'NMAH',\n",
       " 'title': 'Part of Mold',\n",
       " 'record_ID': 'nmah_1452166',\n",
       " 'metadata_usage': {'access': 'CC0'},\n",
       " 'data_source': 'National Museum of American History',\n",
       " 'object_type': ['mold, butter/cheese, part of'],\n",
       " 'Date': '1800 - 1900'}"
      ]
     },
     "execution_count": 11,
     "metadata": {},
     "output_type": "execute_result"
    }
   ],
   "source": [
    "flattened_example = flatten(nmah_example)\n",
    "flattened_example"
   ]
  },
  {
   "cell_type": "code",
   "execution_count": 12,
   "metadata": {},
   "outputs": [
    {
     "data": {
      "text/html": [
       "<div>\n",
       "<style scoped>\n",
       "    .dataframe tbody tr th:only-of-type {\n",
       "        vertical-align: middle;\n",
       "    }\n",
       "\n",
       "    .dataframe tbody tr th {\n",
       "        vertical-align: top;\n",
       "    }\n",
       "\n",
       "    .dataframe thead th {\n",
       "        text-align: right;\n",
       "    }\n",
       "</style>\n",
       "<table border=\"1\" class=\"dataframe\">\n",
       "  <thead>\n",
       "    <tr style=\"text-align: right;\">\n",
       "      <th></th>\n",
       "      <th>id</th>\n",
       "      <th>unitCode</th>\n",
       "      <th>title</th>\n",
       "      <th>record_ID</th>\n",
       "      <th>metadata_usage</th>\n",
       "      <th>data_source</th>\n",
       "      <th>object_type</th>\n",
       "      <th>Date</th>\n",
       "    </tr>\n",
       "  </thead>\n",
       "  <tbody>\n",
       "    <tr>\n",
       "      <th>0</th>\n",
       "      <td>edanmdm-nmah_1452166</td>\n",
       "      <td>NMAH</td>\n",
       "      <td>Part of Mold</td>\n",
       "      <td>nmah_1452166</td>\n",
       "      <td>{'access': 'CC0'}</td>\n",
       "      <td>National Museum of American History</td>\n",
       "      <td>[mold, butter/cheese, part of]</td>\n",
       "      <td>1800 - 1900</td>\n",
       "    </tr>\n",
       "    <tr>\n",
       "      <th>1</th>\n",
       "      <td>edanmdm-nmah_1314014</td>\n",
       "      <td>NMAH</td>\n",
       "      <td>Model Truck from the “Futurama” Exhibition at ...</td>\n",
       "      <td>nmah_1314014</td>\n",
       "      <td>{'access': 'CC0'}</td>\n",
       "      <td>National Museum of American History</td>\n",
       "      <td>[Model Truck]</td>\n",
       "      <td>1939-1940</td>\n",
       "    </tr>\n",
       "    <tr>\n",
       "      <th>2</th>\n",
       "      <td>edanmdm-nmah_209276</td>\n",
       "      <td>NMAH</td>\n",
       "      <td>Dr. Drake's Glessco Cough &amp; Croup Remedy</td>\n",
       "      <td>nmah_209276</td>\n",
       "      <td>{'access': 'CC0'}</td>\n",
       "      <td>National Museum of American History</td>\n",
       "      <td>[Medicine, Drugs]</td>\n",
       "      <td>after 1948</td>\n",
       "    </tr>\n",
       "    <tr>\n",
       "      <th>3</th>\n",
       "      <td>edanmdm-nmah_648464</td>\n",
       "      <td>NMAH</td>\n",
       "      <td>Probably parts for Spinning Frame T02338.000</td>\n",
       "      <td>nmah_648464</td>\n",
       "      <td>{'access': 'CC0'}</td>\n",
       "      <td>National Museum of American History</td>\n",
       "      <td>[Spinning Machine Parts, Batch of]</td>\n",
       "      <td>NaN</td>\n",
       "    </tr>\n",
       "    <tr>\n",
       "      <th>4</th>\n",
       "      <td>edanmdm-nmah_1377036</td>\n",
       "      <td>NMAH</td>\n",
       "      <td>button</td>\n",
       "      <td>nmah_1377036</td>\n",
       "      <td>{'access': 'CC0'}</td>\n",
       "      <td>National Museum of American History</td>\n",
       "      <td>[button]</td>\n",
       "      <td>NaN</td>\n",
       "    </tr>\n",
       "  </tbody>\n",
       "</table>\n",
       "</div>"
      ],
      "text/plain": [
       "                     id unitCode  \\\n",
       "0  edanmdm-nmah_1452166     NMAH   \n",
       "1  edanmdm-nmah_1314014     NMAH   \n",
       "2   edanmdm-nmah_209276     NMAH   \n",
       "3   edanmdm-nmah_648464     NMAH   \n",
       "4  edanmdm-nmah_1377036     NMAH   \n",
       "\n",
       "                                               title     record_ID  \\\n",
       "0                                       Part of Mold  nmah_1452166   \n",
       "1  Model Truck from the “Futurama” Exhibition at ...  nmah_1314014   \n",
       "2           Dr. Drake's Glessco Cough & Croup Remedy   nmah_209276   \n",
       "3       Probably parts for Spinning Frame T02338.000   nmah_648464   \n",
       "4                                             button  nmah_1377036   \n",
       "\n",
       "      metadata_usage                          data_source  \\\n",
       "0  {'access': 'CC0'}  National Museum of American History   \n",
       "1  {'access': 'CC0'}  National Museum of American History   \n",
       "2  {'access': 'CC0'}  National Museum of American History   \n",
       "3  {'access': 'CC0'}  National Museum of American History   \n",
       "4  {'access': 'CC0'}  National Museum of American History   \n",
       "\n",
       "                          object_type         Date  \n",
       "0      [mold, butter/cheese, part of]  1800 - 1900  \n",
       "1                       [Model Truck]    1939-1940  \n",
       "2                   [Medicine, Drugs]   after 1948  \n",
       "3  [Spinning Machine Parts, Batch of]          NaN  \n",
       "4                            [button]          NaN  "
      ]
     },
     "execution_count": 12,
     "metadata": {},
     "output_type": "execute_result"
    }
   ],
   "source": [
    "nmah_json = b.map(flatten).compute()\n",
    "nmah_df = pd.DataFrame(nmah_json)\n",
    "nmah_df.head()"
   ]
  },
  {
   "cell_type": "code",
   "execution_count": 13,
   "metadata": {},
   "outputs": [
    {
     "name": "stdout",
     "output_type": "stream",
     "text": [
      "<class 'pandas.core.frame.DataFrame'>\n",
      "RangeIndex: 5199 entries, 0 to 5198\n",
      "Data columns (total 8 columns):\n",
      " #   Column          Non-Null Count  Dtype \n",
      "---  ------          --------------  ----- \n",
      " 0   id              5199 non-null   object\n",
      " 1   unitCode        5199 non-null   object\n",
      " 2   title           5199 non-null   object\n",
      " 3   record_ID       5199 non-null   object\n",
      " 4   metadata_usage  5199 non-null   object\n",
      " 5   data_source     5199 non-null   object\n",
      " 6   object_type     5199 non-null   object\n",
      " 7   Date            1691 non-null   object\n",
      "dtypes: object(8)\n",
      "memory usage: 325.1+ KB\n"
     ]
    }
   ],
   "source": [
    "nmah_df.info()"
   ]
  },
  {
   "cell_type": "code",
   "execution_count": 15,
   "metadata": {},
   "outputs": [],
   "source": [
    "nmah_df.to_csv('nmah_df.tsv', index=False, sep='\\t')"
   ]
  },
  {
   "cell_type": "code",
   "execution_count": null,
   "metadata": {},
   "outputs": [],
   "source": []
  },
  {
   "cell_type": "code",
   "execution_count": null,
   "metadata": {},
   "outputs": [],
   "source": []
  },
  {
   "cell_type": "code",
   "execution_count": null,
   "metadata": {},
   "outputs": [],
   "source": []
  },
  {
   "cell_type": "code",
   "execution_count": null,
   "metadata": {},
   "outputs": [],
   "source": []
  },
  {
   "cell_type": "code",
   "execution_count": null,
   "metadata": {},
   "outputs": [],
   "source": []
  },
  {
   "cell_type": "code",
   "execution_count": null,
   "metadata": {},
   "outputs": [],
   "source": []
  },
  {
   "cell_type": "code",
   "execution_count": null,
   "metadata": {},
   "outputs": [],
   "source": []
  },
  {
   "cell_type": "code",
   "execution_count": null,
   "metadata": {},
   "outputs": [],
   "source": []
  },
  {
   "cell_type": "code",
   "execution_count": null,
   "metadata": {},
   "outputs": [],
   "source": []
  },
  {
   "cell_type": "code",
   "execution_count": null,
   "metadata": {},
   "outputs": [],
   "source": []
  }
 ],
 "metadata": {
  "kernelspec": {
   "display_name": "Python 3",
   "language": "python",
   "name": "python3"
  },
  "language_info": {
   "codemirror_mode": {
    "name": "ipython",
    "version": 3
   },
   "file_extension": ".py",
   "mimetype": "text/x-python",
   "name": "python",
   "nbconvert_exporter": "python",
   "pygments_lexer": "ipython3",
   "version": "3.7.9"
  }
 },
 "nbformat": 4,
 "nbformat_minor": 4
}

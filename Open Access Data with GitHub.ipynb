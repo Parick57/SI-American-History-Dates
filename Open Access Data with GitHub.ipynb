{
 "cells": [
  {
   "cell_type": "code",
   "execution_count": 1,
   "id": "colored-strain",
   "metadata": {},
   "outputs": [],
   "source": [
    "import multiprocessing.popen_spawn_posix\n",
    "from dask.distributed import Client, progress\n",
    "import dask.bag as db\n",
    "import json\n",
    "import pandas as pd\n",
    "from pathlib import Path"
   ]
  },
  {
   "cell_type": "code",
   "execution_count": 2,
   "id": "documented-cabin",
   "metadata": {},
   "outputs": [
    {
     "data": {
      "text/html": [
       "<table style=\"border: 2px solid white;\">\n",
       "<tr>\n",
       "<td style=\"vertical-align: top; border: 0px solid white\">\n",
       "<h3 style=\"text-align: left;\">Client</h3>\n",
       "<ul style=\"text-align: left; list-style: none; margin: 0; padding: 0;\">\n",
       "  <li><b>Scheduler: </b>tcp://127.0.0.1:61691</li>\n",
       "  <li><b>Dashboard: </b><a href='http://127.0.0.1:8787/status' target='_blank'>http://127.0.0.1:8787/status</a></li>\n",
       "</ul>\n",
       "</td>\n",
       "<td style=\"vertical-align: top; border: 0px solid white\">\n",
       "<h3 style=\"text-align: left;\">Cluster</h3>\n",
       "<ul style=\"text-align: left; list-style:none; margin: 0; padding: 0;\">\n",
       "  <li><b>Workers: </b>4</li>\n",
       "  <li><b>Cores: </b>8</li>\n",
       "  <li><b>Memory: </b>17.18 GB</li>\n",
       "</ul>\n",
       "</td>\n",
       "</tr>\n",
       "</table>"
      ],
      "text/plain": [
       "<Client: 'tcp://127.0.0.1:61691' processes=4 threads=8, memory=17.18 GB>"
      ]
     },
     "execution_count": 2,
     "metadata": {},
     "output_type": "execute_result"
    }
   ],
   "source": [
    "client = Client(n_workers=4)\n",
    "client"
   ]
  },
  {
   "cell_type": "code",
   "execution_count": 3,
   "id": "lightweight-estonia",
   "metadata": {},
   "outputs": [],
   "source": [
    "def exception_handler(orig_func):\n",
    "  def wrapper(*args,**kwargs):\n",
    "    try:\n",
    "      return orig_func(*args,**kwargs)\n",
    "    except:\n",
    "      print(*args)\n",
    "  return wrapper\n",
    "json_except = exception_handler(json.loads)"
   ]
  },
  {
   "cell_type": "code",
   "execution_count": 4,
   "id": "obvious-fetish",
   "metadata": {},
   "outputs": [
    {
     "data": {
      "text/plain": [
       "256"
      ]
     },
     "execution_count": 4,
     "metadata": {},
     "output_type": "execute_result"
    }
   ],
   "source": [
    "nmah_dir = '/Users/triznam/Downloads/OpenAccess-GH/metadata/objects/NMAH/'\n",
    "nmah_file_list = [file for file in Path(nmah_dir).glob('*.txt.bz2') if file.name != 'index.txt.bz2']\n",
    "len(nmah_file_list)"
   ]
  },
  {
   "cell_type": "code",
   "execution_count": 5,
   "id": "varying-campaign",
   "metadata": {},
   "outputs": [],
   "source": [
    "b = db.read_text(nmah_file_list, compression='bz2').map(json.loads)"
   ]
  },
  {
   "cell_type": "code",
   "execution_count": 6,
   "id": "breeding-bailey",
   "metadata": {},
   "outputs": [
    {
     "data": {
      "text/plain": [
       "{'id': 'edanmdm-nmah_325469',\n",
       " 'version': '',\n",
       " 'unitCode': 'NMAH',\n",
       " 'linkedId': '0',\n",
       " 'type': 'edanmdm',\n",
       " 'content': {'descriptiveNonRepeating': {'record_ID': 'nmah_325469',\n",
       "   'unit_code': 'NMAH',\n",
       "   'title_sort': 'COL. ELMER E. ELLSWORTH, OF THE FIRE ZOUAVES.',\n",
       "   'guid': 'http://n2t.net/ark:/65665/ng49ca746b4-fa45-704b-e053-15f76fa0b4fa',\n",
       "   'title': {'label': 'Title',\n",
       "    'content': 'Col. Elmer E. Ellsworth, of the Fire Zouaves.'},\n",
       "   'metadata_usage': {'access': 'CC0'},\n",
       "   'data_source': 'National Museum of American History'},\n",
       "  'indexedStructured': {'date': ['1860s'],\n",
       "   'geoLocation': [{'Other': {'type': 'Place', 'content': 'United States'}},\n",
       "    {'Other': {'type': 'Place', 'content': 'Pennsylvania'}},\n",
       "    {'Other': {'type': 'Place', 'content': 'Philadelphia'}},\n",
       "    {'points': {'point': {'latitude': {'type': 'decimal', 'content': '39.95'},\n",
       "       'longitude': {'type': 'decimal', 'content': '-75.15'}}}}],\n",
       "   'object_type': ['Lithographs'],\n",
       "   'name': ['Magee, John L.', 'Ellsworth, Elmer E.'],\n",
       "   'topic': ['Uniforms, Military',\n",
       "    'Art',\n",
       "    'American Civil War Prints',\n",
       "    'Chronology: 1860-1869',\n",
       "    'Fraternal Associations',\n",
       "    'Furnishings'],\n",
       "   'place': ['United States', 'Philadelphia', 'Pennsylvania'],\n",
       "   'online_media_type': ['Images']},\n",
       "  'freetext': {'setName': [{'label': 'See more items in',\n",
       "     'content': 'Cultural and Community Life: Domestic Life'},\n",
       "    {'label': 'See more items in', 'content': 'Domestic Furnishings'},\n",
       "    {'label': 'See more items in', 'content': 'Art'},\n",
       "    {'label': 'See more items in', 'content': 'American Civil War Prints'}],\n",
       "   'date': [{'label': 'Date made', 'content': '1861'}],\n",
       "   'identifier': [{'label': 'ID Number', 'content': 'DL.60.3213'},\n",
       "    {'label': 'catalog number', 'content': '60.3213'}],\n",
       "   'notes': [{'label': 'Description',\n",
       "     'content': 'This 1861 print contains two full length posthumous portraits of Colonel Elmer E. Ellsworth, one in regular uniform and the other in the outfit of the Fire Zouaves. Originally born New York in 1837, Ellsworth later moved to Illinois, where he found employment in Abraham Lincoln’s Springfield law office in 1860. He assisted Lincoln in his 1860 presidential campaign, accompanying the president-elect to Washington in 1861. Before the war, Ellsworth returned to his native New York City to raise the 11th New York Volunteer Infantry Regimen. A student of military history and science, Ellsworth was fascinated by the Zouaves, France’s colonial soldiers in Algeria. He emulated the drills and methods of this group when training his regiment and even based the design of his men’s uniforms on those of the Zouaves. Since many of the regiment’s enlistees came from New York’s volunteer fire departments, the unit earned the nickname, the “Fire Zouaves.”'},\n",
       "    {'label': 'Description',\n",
       "     'content': 'On May 24th, 1861, the day after Virginia secession, Ellsworth entered Alexandria with soldiers from the 11th New York to aid in the city’s occupation, He was determined to remove a large rebel flag that had flown above one of the city’s inns for weeks and had even been visible through a spyglass from the White House. After removing the flag, he was shot by the inn’s pro-slavery owner, and became the first Union officer to be killed during the Civil War. Below his portrait, this print also contains a facsimile signature of the Colonel and the last letter he wrote before he was killed. In death, Ellsworth became a martyr for the Union cause and he was celebrated in printed illustrations, poems, and ballads. His legacy remained an inspiration for young Northern soldiers throughout the war, and “Remember Ellsworth!” quickly became a favorite rallying cry.'},\n",
       "    {'label': 'Description',\n",
       "     'content': 'John L. Magee was born in New York around 1820 and was employed by the lithographic firms of James Baillie and Nathaniel Currier. He started his own business in New York City in 1850, but moved to Philadelphia sometime shortly after 1852. He was known mainly for his political cartoons, which he produced until the 1860s.'},\n",
       "    {'label': 'Location', 'content': 'Currently not on view'}],\n",
       "   'creditLine': [{'label': 'Credit Line',\n",
       "     'content': 'Harry T. Peters \"America on Stone\" Lithography Collection'}],\n",
       "   'name': [{'label': 'depicted', 'content': 'Ellsworth, Elmer E.'},\n",
       "    {'label': 'maker', 'content': 'Magee, John L.'}],\n",
       "   'topic': [{'label': 'subject', 'content': 'Civil War'},\n",
       "    {'label': 'subject', 'content': 'Chronology: 1860-1869'},\n",
       "    {'label': 'subject', 'content': 'Uniforms, Military'},\n",
       "    {'label': 'subject', 'content': 'Fraternal Associations'},\n",
       "    {'label': 'related event', 'content': 'Civil War'}],\n",
       "   'place': [{'label': 'place made',\n",
       "     'content': 'United States: Pennsylvania, Philadelphia'}],\n",
       "   'physicalDescription': [{'label': 'Physical Description',\n",
       "     'content': 'ink (overall material)'},\n",
       "    {'label': 'Physical Description', 'content': 'paper (overall material)'},\n",
       "    {'label': 'Measurements',\n",
       "     'content': 'image: 12 1/2 in x 10 in; 31.75 cm x 25.4 cm'}],\n",
       "   'dataSource': [{'label': 'Data Source',\n",
       "     'content': 'National Museum of American History'}],\n",
       "   'objectType': [{'label': 'Object Name', 'content': 'Lithograph'},\n",
       "    {'label': 'Object Type', 'content': 'Lithograph'}]}},\n",
       " 'url': 'edanmdm:nmah_325469',\n",
       " 'hash': '4955ebca621314160d3b8675193a6a90dec5b9c5',\n",
       " 'docSignature': 'a45104ff001afbada30af70b29f60f79cf33a81f_bf4a8e28e5fb3f4dc71721659b7e3d7c',\n",
       " 'timestamp': 1615282111,\n",
       " 'lastTimeUpdated': 1615282080,\n",
       " 'title': 'Col. Elmer E. Ellsworth, of the Fire Zouaves.'}"
      ]
     },
     "execution_count": 6,
     "metadata": {},
     "output_type": "execute_result"
    }
   ],
   "source": [
    "nmah_example = b.take(1)[0]\n",
    "nmah_example"
   ]
  },
  {
   "cell_type": "code",
   "execution_count": 7,
   "id": "handled-catalog",
   "metadata": {},
   "outputs": [],
   "source": [
    "def flatten(record):\n",
    "    flattened_record = dict()\n",
    "    if record:\n",
    "        flattened_record['id'] = record['id']\n",
    "        flattened_record['unitCode'] = record['unitCode']\n",
    "        flattened_record['title'] = record['title']\n",
    "        recordID = record['content'].get('descriptiveNonRepeating', {}).get('record_ID', {})\n",
    "        flattened_record['record_ID'] = recordID\n",
    "        metadata = record['content'].get('descriptiveNonRepeating', {}).get('metadata_usage', {})\n",
    "        flattened_record['metadata_usage'] = metadata\n",
    "        DataSource = record['content'].get('descriptiveNonRepeating', {}).get('data_source', {})\n",
    "        flattened_record['data_source'] = DataSource\n",
    "        ObjectType = record['content'].get('indexedStructured', {}).get('object_type', {})\n",
    "        flattened_record['object_type'] = ObjectType\n",
    "\n",
    "        if 'freetext' in record['content']:\n",
    "            if 'date' in record['content']['freetext']:\n",
    "                for date in record['content']['freetext']['date']:\n",
    "                    if date['label'] == 'Date':\n",
    "                        flattened_record['Date'] = str(date['content'])\n",
    "                    elif date['label'] == 'Date made':\n",
    "                        flattened_record['Date'] = str(date['content'])\n",
    "                    elif date['label'] == 'date made':\n",
    "                        flattened_record['Date'] = str(date['content'])\n",
    "                    elif date['label'] == 'associated dates':\n",
    "                        flattened_record['Date'] = str(date['content'])\n",
    "                    elif date['label'] == 'date on object':\n",
    "                        flattened_record['Date'] = str(date['content'])\n",
    "                    elif date['label'] == 'plate date':\n",
    "                        flattened_record['Date'] = str(date['content'])\n",
    "                    elif date['label'] == 'BEP certification date':\n",
    "                        flattened_record['Date'] = str(date['content'])\n",
    "                    elif date['label'] == 'series date':\n",
    "                        flattened_record['Date'] = str(date['content'])\n",
    "                    elif date['label'] == 'alternate calendar date':\n",
    "                        flattened_record['Date'] = str(date['content'])\n",
    "                    elif date['label'] == 'patent date':\n",
    "                        flattened_record['Date'] = str(date['content'])\n",
    "    return flattened_record"
   ]
  },
  {
   "cell_type": "code",
   "execution_count": 8,
   "id": "frank-ethiopia",
   "metadata": {},
   "outputs": [
    {
     "data": {
      "text/html": [
       "<div>\n",
       "<style scoped>\n",
       "    .dataframe tbody tr th:only-of-type {\n",
       "        vertical-align: middle;\n",
       "    }\n",
       "\n",
       "    .dataframe tbody tr th {\n",
       "        vertical-align: top;\n",
       "    }\n",
       "\n",
       "    .dataframe thead th {\n",
       "        text-align: right;\n",
       "    }\n",
       "</style>\n",
       "<table border=\"1\" class=\"dataframe\">\n",
       "  <thead>\n",
       "    <tr style=\"text-align: right;\">\n",
       "      <th></th>\n",
       "      <th>id</th>\n",
       "      <th>unitCode</th>\n",
       "      <th>title</th>\n",
       "      <th>record_ID</th>\n",
       "      <th>metadata_usage</th>\n",
       "      <th>data_source</th>\n",
       "      <th>object_type</th>\n",
       "      <th>Date</th>\n",
       "    </tr>\n",
       "  </thead>\n",
       "  <tbody>\n",
       "    <tr>\n",
       "      <th>0</th>\n",
       "      <td>edanmdm-nmah_325469</td>\n",
       "      <td>NMAH</td>\n",
       "      <td>Col. Elmer E. Ellsworth, of the Fire Zouaves.</td>\n",
       "      <td>nmah_325469</td>\n",
       "      <td>{'access': 'CC0'}</td>\n",
       "      <td>National Museum of American History</td>\n",
       "      <td>[Lithographs]</td>\n",
       "      <td>1861</td>\n",
       "    </tr>\n",
       "    <tr>\n",
       "      <th>1</th>\n",
       "      <td>edanmdm-nmah_1419775</td>\n",
       "      <td>NMAH</td>\n",
       "      <td>Sacramento Dixieland Jubilee Button</td>\n",
       "      <td>nmah_1419775</td>\n",
       "      <td>{'access': 'CC0'}</td>\n",
       "      <td>National Museum of American History</td>\n",
       "      <td>[button]</td>\n",
       "      <td>1986</td>\n",
       "    </tr>\n",
       "    <tr>\n",
       "      <th>2</th>\n",
       "      <td>edanmdm-nmah_1421414</td>\n",
       "      <td>NMAH</td>\n",
       "      <td>Los Angeles Classic Jazz Festival Badge</td>\n",
       "      <td>nmah_1421414</td>\n",
       "      <td>{'access': 'CC0'}</td>\n",
       "      <td>National Museum of American History</td>\n",
       "      <td>[Badges]</td>\n",
       "      <td>1993</td>\n",
       "    </tr>\n",
       "    <tr>\n",
       "      <th>3</th>\n",
       "      <td>edanmdm-nmah_554334</td>\n",
       "      <td>NMAH</td>\n",
       "      <td>photograph</td>\n",
       "      <td>nmah_554334</td>\n",
       "      <td>{'access': 'CC0'}</td>\n",
       "      <td>National Museum of American History</td>\n",
       "      <td>[Photographs, Photograph; Photograph; Daguerre...</td>\n",
       "      <td>NaN</td>\n",
       "    </tr>\n",
       "    <tr>\n",
       "      <th>4</th>\n",
       "      <td>edanmdm-nmah_1994382</td>\n",
       "      <td>NMAH</td>\n",
       "      <td>photograph</td>\n",
       "      <td>nmah_1994382</td>\n",
       "      <td>{'access': 'CC0'}</td>\n",
       "      <td>National Museum of American History</td>\n",
       "      <td>[Photographs]</td>\n",
       "      <td>NaN</td>\n",
       "    </tr>\n",
       "  </tbody>\n",
       "</table>\n",
       "</div>"
      ],
      "text/plain": [
       "                     id unitCode  \\\n",
       "0   edanmdm-nmah_325469     NMAH   \n",
       "1  edanmdm-nmah_1419775     NMAH   \n",
       "2  edanmdm-nmah_1421414     NMAH   \n",
       "3   edanmdm-nmah_554334     NMAH   \n",
       "4  edanmdm-nmah_1994382     NMAH   \n",
       "\n",
       "                                           title     record_ID  \\\n",
       "0  Col. Elmer E. Ellsworth, of the Fire Zouaves.   nmah_325469   \n",
       "1            Sacramento Dixieland Jubilee Button  nmah_1419775   \n",
       "2        Los Angeles Classic Jazz Festival Badge  nmah_1421414   \n",
       "3                                     photograph   nmah_554334   \n",
       "4                                     photograph  nmah_1994382   \n",
       "\n",
       "      metadata_usage                          data_source  \\\n",
       "0  {'access': 'CC0'}  National Museum of American History   \n",
       "1  {'access': 'CC0'}  National Museum of American History   \n",
       "2  {'access': 'CC0'}  National Museum of American History   \n",
       "3  {'access': 'CC0'}  National Museum of American History   \n",
       "4  {'access': 'CC0'}  National Museum of American History   \n",
       "\n",
       "                                         object_type  Date  \n",
       "0                                      [Lithographs]  1861  \n",
       "1                                           [button]  1986  \n",
       "2                                           [Badges]  1993  \n",
       "3  [Photographs, Photograph; Photograph; Daguerre...   NaN  \n",
       "4                                      [Photographs]   NaN  "
      ]
     },
     "execution_count": 8,
     "metadata": {},
     "output_type": "execute_result"
    }
   ],
   "source": [
    "nmah_json = b.map(flatten).compute()\n",
    "nmah_df = pd.DataFrame(nmah_json)\n",
    "nmah_df.head()"
   ]
  },
  {
   "cell_type": "code",
   "execution_count": 9,
   "id": "useful-suggestion",
   "metadata": {},
   "outputs": [
    {
     "name": "stdout",
     "output_type": "stream",
     "text": [
      "<class 'pandas.core.frame.DataFrame'>\n",
      "RangeIndex: 1326357 entries, 0 to 1326356\n",
      "Data columns (total 8 columns):\n",
      " #   Column          Non-Null Count    Dtype \n",
      "---  ------          --------------    ----- \n",
      " 0   id              1326357 non-null  object\n",
      " 1   unitCode        1326357 non-null  object\n",
      " 2   title           1326357 non-null  object\n",
      " 3   record_ID       1326357 non-null  object\n",
      " 4   metadata_usage  1326357 non-null  object\n",
      " 5   data_source     1326357 non-null  object\n",
      " 6   object_type     1326357 non-null  object\n",
      " 7   Date            433101 non-null   object\n",
      "dtypes: object(8)\n",
      "memory usage: 81.0+ MB\n"
     ]
    }
   ],
   "source": [
    "nmah_df.info()"
   ]
  },
  {
   "cell_type": "code",
   "execution_count": 10,
   "id": "searching-voice",
   "metadata": {},
   "outputs": [],
   "source": [
    "nmah_df.to_csv('nmah_github_df.tsv.gz', index=False, sep='\\t', compression='gzip')"
   ]
  },
  {
   "cell_type": "code",
   "execution_count": null,
   "id": "collaborative-tonight",
   "metadata": {},
   "outputs": [],
   "source": []
  }
 ],
 "metadata": {
  "kernelspec": {
   "display_name": "Python 3",
   "language": "python",
   "name": "python3"
  },
  "language_info": {
   "codemirror_mode": {
    "name": "ipython",
    "version": 3
   },
   "file_extension": ".py",
   "mimetype": "text/x-python",
   "name": "python",
   "nbconvert_exporter": "python",
   "pygments_lexer": "ipython3",
   "version": "3.9.1"
  }
 },
 "nbformat": 4,
 "nbformat_minor": 5
}

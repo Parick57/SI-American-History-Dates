{
 "cells": [
  {
   "cell_type": "code",
   "execution_count": 8,
   "id": "colored-strain",
   "metadata": {},
   "outputs": [],
   "source": [
    "import multiprocessing.popen_spawn_posix\n",
    "from dask.distributed import Client, progress\n",
    "import dask.bag as db\n",
    "import json\n",
    "import pandas as pd"
   ]
  },
  {
   "cell_type": "code",
   "execution_count": 2,
   "id": "documented-cabin",
   "metadata": {},
   "outputs": [
    {
     "data": {
      "text/html": [
       "<table style=\"border: 2px solid white;\">\n",
       "<tr>\n",
       "<td style=\"vertical-align: top; border: 0px solid white\">\n",
       "<h3 style=\"text-align: left;\">Client</h3>\n",
       "<ul style=\"text-align: left; list-style: none; margin: 0; padding: 0;\">\n",
       "  <li><b>Scheduler: </b>tcp://127.0.0.1:49501</li>\n",
       "  <li><b>Dashboard: </b><a href='http://127.0.0.1:8787/status' target='_blank'>http://127.0.0.1:8787/status</a></li>\n",
       "</ul>\n",
       "</td>\n",
       "<td style=\"vertical-align: top; border: 0px solid white\">\n",
       "<h3 style=\"text-align: left;\">Cluster</h3>\n",
       "<ul style=\"text-align: left; list-style:none; margin: 0; padding: 0;\">\n",
       "  <li><b>Workers: </b>4</li>\n",
       "  <li><b>Cores: </b>8</li>\n",
       "  <li><b>Memory: </b>17.18 GB</li>\n",
       "</ul>\n",
       "</td>\n",
       "</tr>\n",
       "</table>"
      ],
      "text/plain": [
       "<Client: 'tcp://127.0.0.1:49501' processes=4 threads=8, memory=17.18 GB>"
      ]
     },
     "execution_count": 2,
     "metadata": {},
     "output_type": "execute_result"
    }
   ],
   "source": [
    "client = Client(n_workers=4)\n",
    "client"
   ]
  },
  {
   "cell_type": "code",
   "execution_count": 3,
   "id": "lightweight-estonia",
   "metadata": {},
   "outputs": [],
   "source": [
    "def exception_handler(orig_func):\n",
    "  def wrapper(*args,**kwargs):\n",
    "    try:\n",
    "      return orig_func(*args,**kwargs)\n",
    "    except:\n",
    "      print(*args)\n",
    "  return wrapper\n",
    "json_except = exception_handler(json.loads)"
   ]
  },
  {
   "cell_type": "code",
   "execution_count": 4,
   "id": "varying-campaign",
   "metadata": {},
   "outputs": [],
   "source": [
    "b = db.read_text('/Users/triznam/Downloads/OpenAccess-GH/metadata/objects/NMAH/*').map(json_except)"
   ]
  },
  {
   "cell_type": "code",
   "execution_count": 5,
   "id": "breeding-bailey",
   "metadata": {},
   "outputs": [
    {
     "data": {
      "text/plain": [
       "{'id': 'edanmdm-nmah_631116',\n",
       " 'version': '',\n",
       " 'unitCode': 'NMAH',\n",
       " 'linkedId': '0',\n",
       " 'type': 'edanmdm',\n",
       " 'content': {'descriptiveNonRepeating': {'record_ID': 'nmah_631116',\n",
       "   'unit_code': 'NMAH',\n",
       "   'title_sort': 'THREAD, SKEIN',\n",
       "   'guid': 'http://n2t.net/ark:/65665/ng49ca746a4-94ea-704b-e053-15f76fa0b4fa',\n",
       "   'title': {'label': 'Object Name', 'content': 'thread, skein'},\n",
       "   'metadata_usage': {'access': 'CC0'},\n",
       "   'data_source': 'National Museum of American History'},\n",
       "  'indexedStructured': {'object_type': ['Thread, Skein']},\n",
       "  'freetext': {'setName': [{'label': 'See more items in',\n",
       "     'content': 'Cultural and Community Life: Textiles'}],\n",
       "   'identifier': [{'label': 'ID Number', 'content': 'TE.T18808.026'},\n",
       "    {'label': 'catalog number', 'content': 'T18808.026'},\n",
       "    {'label': 'catalog number', 'content': 'T.18808.026'}],\n",
       "   'notes': [{'label': 'Location', 'content': 'Currently not on view'}],\n",
       "   'physicalDescription': [{'label': 'Physical Description',\n",
       "     'content': 'artificial silk (overall material)'}],\n",
       "   'dataSource': [{'label': 'Data Source',\n",
       "     'content': 'National Museum of American History'}],\n",
       "   'objectType': [{'label': 'Object Name', 'content': 'Thread, Skein'}]}},\n",
       " 'url': 'edanmdm:nmah_631116',\n",
       " 'hash': '006f5728fe0610c386d330749350f9f89e9125f2',\n",
       " 'docSignature': '810eb9c78f741eed9901e1a3439f3f3b1f171b19_109ba8ae41eaba29fc388468898ce535',\n",
       " 'timestamp': 1581585465,\n",
       " 'lastTimeUpdated': 1581585402,\n",
       " 'title': 'thread, skein'}"
      ]
     },
     "execution_count": 5,
     "metadata": {},
     "output_type": "execute_result"
    }
   ],
   "source": [
    "nmah_example = b.take(1)[0]\n",
    "nmah_example"
   ]
  },
  {
   "cell_type": "code",
   "execution_count": 6,
   "id": "registered-guard",
   "metadata": {},
   "outputs": [
    {
     "data": {
      "text/plain": [
       "1326613"
      ]
     },
     "execution_count": 6,
     "metadata": {},
     "output_type": "execute_result"
    }
   ],
   "source": [
    "b.count().compute()"
   ]
  },
  {
   "cell_type": "code",
   "execution_count": 15,
   "id": "handled-catalog",
   "metadata": {},
   "outputs": [],
   "source": [
    "def flatten(record):\n",
    "    flattened_record = dict()\n",
    "    if record:\n",
    "        flattened_record['id'] = record['id']\n",
    "        flattened_record['unitCode'] = record['unitCode']\n",
    "        flattened_record['title'] = record['title']\n",
    "        recordID = record['content'].get('descriptiveNonRepeating', {}).get('record_ID', {})\n",
    "        flattened_record['record_ID'] = recordID\n",
    "        metadata = record['content'].get('descriptiveNonRepeating', {}).get('metadata_usage', {})\n",
    "        flattened_record['metadata_usage'] = metadata\n",
    "        DataSource = record['content'].get('descriptiveNonRepeating', {}).get('data_source', {})\n",
    "        flattened_record['data_source'] = DataSource\n",
    "        ObjectType = record['content'].get('indexedStructured', {}).get('object_type', {})\n",
    "        flattened_record['object_type'] = ObjectType\n",
    "\n",
    "        if 'freetext' in record['content']:\n",
    "            if 'date' in record['content']['freetext']:\n",
    "                for date in record['content']['freetext']['date']:\n",
    "                    if date['label'] == 'Date':\n",
    "                        flattened_record['Date'] = str(date['content'])\n",
    "                    elif date['label'] == 'Date made':\n",
    "                        flattened_record['Date'] = str(date['content'])\n",
    "                    elif date['label'] == 'date made':\n",
    "                        flattened_record['Date'] = str(date['content'])\n",
    "                    elif date['label'] == 'associated dates':\n",
    "                        flattened_record['Date'] = str(date['content'])\n",
    "                    elif date['label'] == 'date on object':\n",
    "                        flattened_record['Date'] = str(date['content'])\n",
    "                    elif date['label'] == 'plate date':\n",
    "                        flattened_record['Date'] = str(date['content'])\n",
    "                    elif date['label'] == 'BEP certification date':\n",
    "                        flattened_record['Date'] = str(date['content'])\n",
    "                    elif date['label'] == 'series date':\n",
    "                        flattened_record['Date'] = str(date['content'])\n",
    "                    elif date['label'] == 'alternate calendar date':\n",
    "                        flattened_record['Date'] = str(date['content'])\n",
    "                    elif date['label'] == 'patent date':\n",
    "                        flattened_record['Date'] = str(date['content'])\n",
    "    return flattened_record"
   ]
  },
  {
   "cell_type": "code",
   "execution_count": 16,
   "id": "skilled-storm",
   "metadata": {},
   "outputs": [
    {
     "data": {
      "text/html": [
       "<div>\n",
       "<style scoped>\n",
       "    .dataframe tbody tr th:only-of-type {\n",
       "        vertical-align: middle;\n",
       "    }\n",
       "\n",
       "    .dataframe tbody tr th {\n",
       "        vertical-align: top;\n",
       "    }\n",
       "\n",
       "    .dataframe thead th {\n",
       "        text-align: right;\n",
       "    }\n",
       "</style>\n",
       "<table border=\"1\" class=\"dataframe\">\n",
       "  <thead>\n",
       "    <tr style=\"text-align: right;\">\n",
       "      <th></th>\n",
       "      <th>id</th>\n",
       "      <th>unitCode</th>\n",
       "      <th>title</th>\n",
       "      <th>record_ID</th>\n",
       "      <th>metadata_usage</th>\n",
       "      <th>data_source</th>\n",
       "      <th>object_type</th>\n",
       "      <th>Date</th>\n",
       "    </tr>\n",
       "  </thead>\n",
       "  <tbody>\n",
       "    <tr>\n",
       "      <th>0</th>\n",
       "      <td>edanmdm-nmah_631116</td>\n",
       "      <td>NMAH</td>\n",
       "      <td>thread, skein</td>\n",
       "      <td>nmah_631116</td>\n",
       "      <td>{'access': 'CC0'}</td>\n",
       "      <td>National Museum of American History</td>\n",
       "      <td>[Thread, Skein]</td>\n",
       "      <td>NaN</td>\n",
       "    </tr>\n",
       "    <tr>\n",
       "      <th>1</th>\n",
       "      <td>edanmdm-nmah_640898</td>\n",
       "      <td>NMAH</td>\n",
       "      <td>ribbon, jacquard</td>\n",
       "      <td>nmah_640898</td>\n",
       "      <td>{'access': 'CC0'}</td>\n",
       "      <td>National Museum of American History</td>\n",
       "      <td>[Ribbon, Jacquard]</td>\n",
       "      <td>NaN</td>\n",
       "    </tr>\n",
       "    <tr>\n",
       "      <th>2</th>\n",
       "      <td>edanmdm-nmah_646671</td>\n",
       "      <td>NMAH</td>\n",
       "      <td>trimming</td>\n",
       "      <td>nmah_646671</td>\n",
       "      <td>{'access': 'CC0'}</td>\n",
       "      <td>National Museum of American History</td>\n",
       "      <td>[Trimming]</td>\n",
       "      <td>NaN</td>\n",
       "    </tr>\n",
       "    <tr>\n",
       "      <th>3</th>\n",
       "      <td>edanmdm-nmah_646782</td>\n",
       "      <td>NMAH</td>\n",
       "      <td>turban square</td>\n",
       "      <td>nmah_646782</td>\n",
       "      <td>{'access': 'CC0'}</td>\n",
       "      <td>National Museum of American History</td>\n",
       "      <td>[Turban Square]</td>\n",
       "      <td>NaN</td>\n",
       "    </tr>\n",
       "    <tr>\n",
       "      <th>4</th>\n",
       "      <td>edanmdm-nmah_630704</td>\n",
       "      <td>NMAH</td>\n",
       "      <td>fabric, printed</td>\n",
       "      <td>nmah_630704</td>\n",
       "      <td>{'access': 'CC0'}</td>\n",
       "      <td>National Museum of American History</td>\n",
       "      <td>[Fabric, Printed]</td>\n",
       "      <td>NaN</td>\n",
       "    </tr>\n",
       "  </tbody>\n",
       "</table>\n",
       "</div>"
      ],
      "text/plain": [
       "                    id unitCode             title    record_ID  \\\n",
       "0  edanmdm-nmah_631116     NMAH     thread, skein  nmah_631116   \n",
       "1  edanmdm-nmah_640898     NMAH  ribbon, jacquard  nmah_640898   \n",
       "2  edanmdm-nmah_646671     NMAH          trimming  nmah_646671   \n",
       "3  edanmdm-nmah_646782     NMAH     turban square  nmah_646782   \n",
       "4  edanmdm-nmah_630704     NMAH   fabric, printed  nmah_630704   \n",
       "\n",
       "      metadata_usage                          data_source         object_type  \\\n",
       "0  {'access': 'CC0'}  National Museum of American History     [Thread, Skein]   \n",
       "1  {'access': 'CC0'}  National Museum of American History  [Ribbon, Jacquard]   \n",
       "2  {'access': 'CC0'}  National Museum of American History          [Trimming]   \n",
       "3  {'access': 'CC0'}  National Museum of American History     [Turban Square]   \n",
       "4  {'access': 'CC0'}  National Museum of American History   [Fabric, Printed]   \n",
       "\n",
       "  Date  \n",
       "0  NaN  \n",
       "1  NaN  \n",
       "2  NaN  \n",
       "3  NaN  \n",
       "4  NaN  "
      ]
     },
     "execution_count": 16,
     "metadata": {},
     "output_type": "execute_result"
    }
   ],
   "source": [
    "nmah_json = b.map(flatten).compute()\n",
    "nmah_df = pd.DataFrame(nmah_json)\n",
    "nmah_df.head()"
   ]
  },
  {
   "cell_type": "code",
   "execution_count": 17,
   "id": "suspected-denmark",
   "metadata": {},
   "outputs": [
    {
     "name": "stdout",
     "output_type": "stream",
     "text": [
      "<class 'pandas.core.frame.DataFrame'>\n",
      "RangeIndex: 1326613 entries, 0 to 1326612\n",
      "Data columns (total 8 columns):\n",
      " #   Column          Non-Null Count    Dtype \n",
      "---  ------          --------------    ----- \n",
      " 0   id              1326357 non-null  object\n",
      " 1   unitCode        1326357 non-null  object\n",
      " 2   title           1326357 non-null  object\n",
      " 3   record_ID       1326357 non-null  object\n",
      " 4   metadata_usage  1326357 non-null  object\n",
      " 5   data_source     1326357 non-null  object\n",
      " 6   object_type     1326357 non-null  object\n",
      " 7   Date            433101 non-null   object\n",
      "dtypes: object(8)\n",
      "memory usage: 81.0+ MB\n"
     ]
    }
   ],
   "source": [
    "nmah_df.info()"
   ]
  },
  {
   "cell_type": "code",
   "execution_count": 18,
   "id": "wound-jacket",
   "metadata": {},
   "outputs": [],
   "source": [
    "nmah_df.to_csv('nmah_github_df.tsv.gz', index=False, sep='\\t')"
   ]
  },
  {
   "cell_type": "code",
   "execution_count": null,
   "id": "biblical-aspect",
   "metadata": {},
   "outputs": [],
   "source": []
  }
 ],
 "metadata": {
  "kernelspec": {
   "display_name": "Python 3",
   "language": "python",
   "name": "python3"
  },
  "language_info": {
   "codemirror_mode": {
    "name": "ipython",
    "version": 3
   },
   "file_extension": ".py",
   "mimetype": "text/x-python",
   "name": "python",
   "nbconvert_exporter": "python",
   "pygments_lexer": "ipython3",
   "version": "3.9.1"
  }
 },
 "nbformat": 4,
 "nbformat_minor": 5
}
